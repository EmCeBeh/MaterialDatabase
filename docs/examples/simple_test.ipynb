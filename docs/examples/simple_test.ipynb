{
 "cells": [
  {
   "cell_type": "code",
   "execution_count": 1,
   "metadata": {},
   "outputs": [],
   "source": [
    "# configure to autoload all extension\n",
    "%load_ext autoreload\n",
    "%autoreload 2"
   ]
  },
  {
   "cell_type": "code",
   "execution_count": 2,
   "metadata": {},
   "outputs": [],
   "source": [
    "import material_database as md\n",
    "from os import path"
   ]
  },
  {
   "cell_type": "code",
   "execution_count": 3,
   "metadata": {},
   "outputs": [
    {
     "name": "stderr",
     "output_type": "stream",
     "text": [
      "INFO :: base path of PyYamlParser set to: ./\n"
     ]
    }
   ],
   "source": [
    "yaml_data_path = './'\n",
    "yaml_parser = md.parser.PyYamlParser(yaml_data_path, log_level=20)"
   ]
  },
  {
   "cell_type": "code",
   "execution_count": 4,
   "metadata": {},
   "outputs": [
    {
     "name": "stderr",
     "output_type": "stream",
     "text": [
      "INFO :: converted yaml file \"C:\\Users\\borchert\\Documents\\repos\\MaterialDatabase\\docs\\examples\\test_material.yaml\" to Python dictionary\n",
      "INFO :: found 3 bibtex entries and converted them to Python dictionaries\n"
     ]
    }
   ],
   "source": [
    "material_data = yaml_parser.load('test_material')"
   ]
  },
  {
   "cell_type": "code",
   "execution_count": 5,
   "metadata": {},
   "outputs": [
    {
     "data": {
      "text/plain": [
       "{'year': '2013',\n",
       " 'volume': '6',\n",
       " 'title': 'Unicorn: A system for searching the social graph',\n",
       " 'publisher': 'VLDB Endowment',\n",
       " 'pages': '1150--1161',\n",
       " 'number': '11',\n",
       " 'journal': 'Proceedings of the VLDB Endowment',\n",
       " 'doi': '10.14778/2536222.2536239',\n",
       " 'author': 'Curtiss, Michael and Becker, Iain and Bosman, Tudor and Doroshenko, Sergey and Grijincu, Lucian and Jackson, Tom and Kunnatur, Sandhya and Lassen, Soren and Pronin, Philip and Sankar, Sriram and others',\n",
       " 'ENTRYTYPE': 'article'}"
      ]
     },
     "execution_count": 5,
     "metadata": {},
     "output_type": "execute_result"
    }
   ],
   "source": [
    "material_data['meta']['references']['curtiss2013unicorn']"
   ]
  },
  {
   "cell_type": "code",
   "execution_count": 6,
   "metadata": {},
   "outputs": [
    {
     "name": "stderr",
     "output_type": "stream",
     "text": [
      "INFO :: added reference with key aad2015combined\n",
      "INFO :: added reference with key cheng2015generalized\n",
      "INFO :: added reference with key curtiss2013unicorn\n",
      "INFO :: setting the value is not that simple\n",
      "INFO :: we need to change the value also in the dict of the corresponding reference ID: \"curtiss2013unicorn\"\n",
      "INFO :: setting the value is not that simple\n",
      "INFO :: we need to change the value also in the dict of the corresponding reference ID: \"curtiss2013unicorn\"\n",
      "INFO :: setting the value is not that simple\n",
      "INFO :: we need to change the value also in the dict of the corresponding reference ID: \"curtiss2013unicorn\"\n",
      "INFO :: setting the value is not that simple\n",
      "INFO :: we need to change the value also in the dict of the corresponding reference ID: \"curtiss2013unicorn\"\n",
      "INFO :: setting the value is not that simple\n",
      "INFO :: we need to change the value also in the dict of the corresponding reference ID: \"aad2015combined\"\n",
      "INFO :: setting the value is not that simple\n",
      "INFO :: we need to change the value also in the dict of the corresponding reference ID: \"aad2015combined\"\n",
      "INFO :: setting the value is not that simple\n",
      "INFO :: we need to change the value also in the dict of the corresponding reference ID: \"aad2015combined\"\n",
      "INFO :: setting the value is not that simple\n",
      "INFO :: we need to change the value also in the dict of the corresponding reference ID: \"aad2015combined\"\n",
      "INFO :: added parameter with name thermal_conductivity\n",
      "INFO :: setting the value is not that simple\n",
      "INFO :: we need to change the value also in the dict of the corresponding reference ID: \"cheng2015generalized\"\n",
      "INFO :: setting the value is not that simple\n",
      "INFO :: we need to change the value also in the dict of the corresponding reference ID: \"cheng2015generalized\"\n",
      "INFO :: setting the value is not that simple\n",
      "INFO :: we need to change the value also in the dict of the corresponding reference ID: \"cheng2015generalized\"\n",
      "INFO :: setting the value is not that simple\n",
      "INFO :: we need to change the value also in the dict of the corresponding reference ID: \"cheng2015generalized\"\n",
      "INFO :: added parameter with name refractive_index\n",
      "INFO :: setting the value is not that simple\n",
      "INFO :: we need to change the value also in the dict of the corresponding reference ID: \"curtiss2013unicorn\"\n",
      "INFO :: setting the value is not that simple\n",
      "INFO :: we need to change the value also in the dict of the corresponding reference ID: \"curtiss2013unicorn\"\n",
      "INFO :: setting the value is not that simple\n",
      "INFO :: we need to change the value also in the dict of the corresponding reference ID: \"curtiss2013unicorn\"\n",
      "INFO :: setting the value is not that simple\n",
      "INFO :: we need to change the value also in the dict of the corresponding reference ID: \"curtiss2013unicorn\"\n",
      "INFO :: added parameter with name wavelength\n"
     ]
    }
   ],
   "source": [
    "test_material = md.Material(material_data, log_level=20)"
   ]
  },
  {
   "cell_type": "code",
   "execution_count": 7,
   "metadata": {},
   "outputs": [
    {
     "data": {
      "text/plain": [
       "80"
      ]
     },
     "execution_count": 7,
     "metadata": {},
     "output_type": "execute_result"
    }
   ],
   "source": [
    "test_material.thermal_conductivity['curtiss2013unicorn'].value"
   ]
  },
  {
   "cell_type": "code",
   "execution_count": 8,
   "metadata": {},
   "outputs": [
    {
     "data": {
      "text/plain": [
       "82"
      ]
     },
     "execution_count": 8,
     "metadata": {},
     "output_type": "execute_result"
    }
   ],
   "source": [
    "test_material.thermal_conductivity['aad2015combined'].value"
   ]
  },
  {
   "cell_type": "code",
   "execution_count": null,
   "metadata": {},
   "outputs": [],
   "source": []
  }
 ],
 "metadata": {
  "kernelspec": {
   "display_name": "Python 3",
   "language": "python",
   "name": "python3"
  },
  "language_info": {
   "codemirror_mode": {
    "name": "ipython",
    "version": 3
   },
   "file_extension": ".py",
   "mimetype": "text/x-python",
   "name": "python",
   "nbconvert_exporter": "python",
   "pygments_lexer": "ipython3",
   "version": "3.7.6"
  }
 },
 "nbformat": 4,
 "nbformat_minor": 4
}
