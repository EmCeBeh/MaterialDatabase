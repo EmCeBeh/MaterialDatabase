{
 "cells": [
  {
   "cell_type": "markdown",
   "metadata": {},
   "source": [
    "## Import"
   ]
  },
  {
   "cell_type": "code",
   "execution_count": 1,
   "metadata": {},
   "outputs": [],
   "source": [
    "import material_database as md"
   ]
  },
  {
   "cell_type": "markdown",
   "metadata": {},
   "source": [
    "## Path definitions"
   ]
  },
  {
   "cell_type": "code",
   "execution_count": 2,
   "metadata": {},
   "outputs": [],
   "source": [
    "db_path = r'C:\\Users\\loc_steinbac\\Documents\\5-Code\\1-git_repos\\MaterialDatabase\\docs\\examples'\n",
    "material = 'test_material'"
   ]
  },
  {
   "cell_type": "markdown",
   "metadata": {},
   "source": [
    "## Load Database"
   ]
  },
  {
   "cell_type": "code",
   "execution_count": 3,
   "metadata": {},
   "outputs": [],
   "source": [
    "yaml_parser = md.parser.PyYamlParser(db_path)\n",
    "\n",
    "material_data = yaml_parser.load(material)\n",
    "\n",
    "data = md.Material(material_data)"
   ]
  },
  {
   "cell_type": "markdown",
   "metadata": {},
   "source": [
    "## List Reference and parameter example"
   ]
  },
  {
   "cell_type": "code",
   "execution_count": 4,
   "metadata": {},
   "outputs": [
    {
     "name": "stdout",
     "output_type": "stream",
     "text": [
      "References in test_material database: ['aad2015combined', 'cheng2015generalized', 'curtiss2013unicorn']\n",
      "Parameters in test_material database: [('thermal_conductivity', 'curtiss2013unicorn'), ('thermal_conductivity', 'aad2015combined'), ('refractive_index', 'cheng2015generalized'), ('wavelength', 'curtiss2013unicorn')]\n"
     ]
    }
   ],
   "source": [
    "print('References in %s database: %s'%(material,str(data.list_references())))\n",
    "print('Parameters in %s database: %s'%(material,str(data.list_parameters())))"
   ]
  },
  {
   "cell_type": "markdown",
   "metadata": {},
   "source": [
    "## Example to extract references"
   ]
  },
  {
   "cell_type": "code",
   "execution_count": null,
   "metadata": {},
   "outputs": [],
   "source": [
    "print('Reference %s: %s'%(\"cheng2015generalized\",str(data.cheng2015generalized.dump())))\n",
    "print('Reference %s: %s'%(str(data.list_references()[0]),str(getattr(data,data.list_references()[0]).dump())))"
   ]
  },
  {
   "cell_type": "markdown",
   "metadata": {},
   "source": [
    "## Example to extract parameters"
   ]
  },
  {
   "cell_type": "code",
   "execution_count": 8,
   "metadata": {},
   "outputs": [
    {
     "name": "stdout",
     "output_type": "stream",
     "text": [
      "Parameter refractive_index: {'value': None, 'uncertainty': 0, 'unit': '', 'comment': 'it is a function of wavelength in nm. one needs to think also of a way how to make this clear in general', 'lambda': [1, 2, 3, 4, 5, 6, 7, 8, 9], 'n': [10, 20, 30, 40, 50, 60, 70], 'k': [10, 20, 30, 40, 50, 60, 70]}\n",
      "Parameter thermal_conductivity: {'value': 80, 'uncertainty': 1, 'unit': 'J/m', 'comment': 'some value comment here'}\n"
     ]
    }
   ],
   "source": [
    "print('Parameter %s: %s'%(\"refractive_index\",str(data.refractive_index['cheng2015generalized'].dump())))\n",
    "print('Parameter %s: %s'%(\"thermal_conductivity\",str(data.thermal_conductivity['curtiss2013unicorn'].dump())))"
   ]
  },
  {
   "cell_type": "markdown",
   "metadata": {},
   "source": [
    "## Example to add new Parameter"
   ]
  },
  {
   "cell_type": "code",
   "execution_count": null,
   "metadata": {},
   "outputs": [],
   "source": [
    "newPara = md.Parameter('wavelength','curtiss2013unicorn')\n",
    "newPara.addValueList('lambda',[10,20,304,55])\n",
    "data.add_parameter(newPara)\n",
    "\n",
    "data.validate()"
   ]
  },
  {
   "cell_type": "markdown",
   "metadata": {},
   "source": [
    "## Save database"
   ]
  },
  {
   "cell_type": "code",
   "execution_count": null,
   "metadata": {},
   "outputs": [],
   "source": [
    "data_dict = data.dump()\n",
    "\n",
    "yaml_file = yaml_parser.dump(data_dict)"
   ]
  }
 ],
 "metadata": {
  "kernelspec": {
   "display_name": "Python 3",
   "language": "python",
   "name": "python3"
  },
  "language_info": {
   "codemirror_mode": {
    "name": "ipython",
    "version": 3
   },
   "file_extension": ".py",
   "mimetype": "text/x-python",
   "name": "python",
   "nbconvert_exporter": "python",
   "pygments_lexer": "ipython3",
   "version": "3.9.0"
  }
 },
 "nbformat": 4,
 "nbformat_minor": 4
}
